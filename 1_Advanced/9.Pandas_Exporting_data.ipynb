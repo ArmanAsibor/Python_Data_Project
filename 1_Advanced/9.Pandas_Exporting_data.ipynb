{
 "cells": [
  {
   "cell_type": "code",
   "execution_count": 1,
   "id": "bbc9db0f",
   "metadata": {},
   "outputs": [],
   "source": [
    "#importing Data Analysis Libraries\n",
    "import pandas as pd\n",
    "import matplotlib.pyplot as plt\n",
    "from datasets import load_dataset\n",
    "\n",
    "#loading the dataset\n",
    "dataset = load_dataset(\"lukebarousse/data_jobs\")\n",
    "df = dataset['train'].to_pandas()\n",
    "\n",
    "#data cleaning\n",
    "df['job_posted_date'] = pd.to_datetime(df['job_posted_date'])\n",
    "\n",
    "df['Job_posted_month'] = df['job_posted_date'].dt.strftime('%b')\n",
    "\n",
    "months = df['Job_posted_month'].unique()\n",
    "\n",
    "\n",
    "dict_month = {month : df[df['Job_posted_month']== month] for month in months}\n",
    "\n",
    "df_q1 = pd.concat([dict_month['Jan'], dict_month['Feb'], dict_month['Mar']], ignore_index=True)\n",
    "\n"
   ]
  },
  {
   "cell_type": "code",
   "execution_count": 2,
   "id": "22c88cab",
   "metadata": {},
   "outputs": [],
   "source": [
    "# df_q1.to_csv('data_jobs_q1.csv', index=False)"
   ]
  }
 ],
 "metadata": {
  "kernelspec": {
   "display_name": "python_project",
   "language": "python",
   "name": "python3"
  },
  "language_info": {
   "codemirror_mode": {
    "name": "ipython",
    "version": 3
   },
   "file_extension": ".py",
   "mimetype": "text/x-python",
   "name": "python",
   "nbconvert_exporter": "python",
   "pygments_lexer": "ipython3",
   "version": "3.11.13"
  }
 },
 "nbformat": 4,
 "nbformat_minor": 5
}
